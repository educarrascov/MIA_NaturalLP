{
 "cells": [
  {
   "cell_type": "markdown",
   "metadata": {
    "id": "eK286F_ETiAJ"
   },
   "source": [
    "**Implementación de un Autómata Finito (FA) Interactivo** \n",
    "\n",
    "Este programa implementa un reconocedor de entradas de un usuario basado en un FA (*Finite-State Automaton*) predefinido. Requiere que el diseñador especifique la *tabla de transición* del FA. La entrada se reconoce mediante un ASR y la salida se genera mediante la reutilización de un TTS.\n",
    "\n",
    "Primero, necesitamos instalar algunos paquetes para ASR, TTS y manejo de audio:"
   ]
  },
  {
   "cell_type": "code",
   "execution_count": null,
   "metadata": {
    "id": "3aAXsCwIUbfn"
   },
   "outputs": [],
   "source": [
    "!apt install libasound2-dev portaudio19-dev libportaudio2 libportaudiocpp0 ffmpeg\n",
    "!pip install speechrecognition\n",
    "!pip install PyAudio\n",
    "!pip -q install pydub\n",
    "!pip install gtts\n",
    "!pip install pygobject\n",
    "!pip install spacy\n",
    "!python -m spacy download es_core_news_sm"
   ]
  },
  {
   "cell_type": "markdown",
   "metadata": {
    "id": "FlTthYbt3hBv"
   },
   "source": [
    "Luego importamos algunas bibliotecas que necesitaremos:"
   ]
  },
  {
   "cell_type": "code",
   "execution_count": null,
   "metadata": {
    "id": "qtE6TXF8UgcH"
   },
   "outputs": [],
   "source": [
    "import speech_recognition as sr \n",
    "from pydub import AudioSegment\n",
    "from IPython.display import Javascript, Audio\n",
    "from google.colab import output\n",
    "from base64 import b64decode\n",
    "from io import BytesIO\n",
    "import subprocess\n",
    "import re\n",
    "from gtts import gTTS \n",
    "import time\n",
    "import es_core_news_sm"
   ]
  },
  {
   "cell_type": "markdown",
   "metadata": {
    "id": "FT_FM4Fyyvmj"
   },
   "source": [
    "Luego, re-utilizamos algunos métodos definidos previamente para ASR y TTS:"
   ]
  },
  {
   "cell_type": "code",
   "execution_count": null,
   "metadata": {
    "id": "Uh2aS2yyUSqQ"
   },
   "outputs": [],
   "source": [
    "RECORD = \"\"\"\n",
    "const sleep  = time => new Promise(resolve => setTimeout(resolve, time))\n",
    "const b2text = blob => new Promise(resolve => {\n",
    "  const reader = new FileReader()\n",
    "  reader.onloadend = e => resolve(e.srcElement.result)\n",
    "  reader.readAsDataURL(blob)\n",
    "})\n",
    "var record = time => new Promise(async resolve => {\n",
    "  stream = await navigator.mediaDevices.getUserMedia({ audio: true })\n",
    "  recorder = new MediaRecorder(stream)\n",
    "  chunks = []\n",
    "  recorder.ondataavailable = e => chunks.push(e.data)\n",
    "  recorder.start()\n",
    "  await sleep(time)\n",
    "  recorder.onstop = async ()=>{\n",
    "    blob = new Blob(chunks)\n",
    "    text = await b2text(blob)\n",
    "    resolve(text)\n",
    "  }\n",
    "  recorder.stop()\n",
    "})\n",
    "\"\"\"\n",
    "\n",
    "def Grabar(sec=5):\n",
    "  display(Javascript(RECORD))\n",
    "  s = output.eval_js('record(%d)' % (sec*1000))\n",
    "  b = b64decode(s.split(',')[1])\n",
    "  with open('audio.webm','wb') as f:\n",
    "    f.write(b)\n",
    "  command = ['ffmpeg', '-i', 'audio.webm', '-f', 'segment', '-segment_time', '100', 'out%02d.wav']\n",
    "  subprocess.run(command,stdout=subprocess.PIPE,stdin=subprocess.PIPE)\n",
    "  return('out00.wav')\n",
    "\n",
    "def ASR():\n",
    "    texto_reconocido=\"\"\n",
    "    print(\"Comenzar..\")\n",
    "    WAV = Grabar()\n",
    "    fuente = sr.AudioFile(WAV)\n",
    "    r = sr.Recognizer()\n",
    "    with fuente as source:\n",
    "         audio = r.record(source)                                 \n",
    "    try:\n",
    "         texto_reconocido = r.recognize_google(audio, language='es-es')\n",
    "    except sr.UnknownValueError:\n",
    "       print(\"No entendi el audio\")\n",
    "    return(texto_reconocido)\n",
    "\n",
    "def TTS(texto):\n",
    "  sound_file = '1.wav'\n",
    "  tts = gTTS(texto, lang=\"es\")\n",
    "  tts.save(sound_file) \n",
    "  display(Audio(sound_file,autoplay=True)) "
   ]
  },
  {
   "cell_type": "markdown",
   "metadata": {
    "id": "nTimcNlry3Np"
   },
   "source": [
    "Además, re-utilizamos nuestra función para lematizar una oración:"
   ]
  },
  {
   "cell_type": "code",
   "execution_count": null,
   "metadata": {
    "id": "7U4kS4dhy9Ey"
   },
   "outputs": [],
   "source": [
    "def Lematizar(oracion):\n",
    "   doc = nlp(oracion)\n",
    "   lemas = [token.lemma_ for token in doc]\n",
    "   return(\" \".join(lemas))  "
   ]
  },
  {
   "cell_type": "markdown",
   "metadata": {
    "id": "EXtTfYGjzKiN"
   },
   "source": [
    "Ahora, definimos el método **LeerRespuesta(pregunta, patron)**, que lee una respuesta hablada del usuario a partir de una **pregunta** dada por el FA. En el caso de que la respuesta \"calce\" con algunos de los símbolos permitidos en **patron** (i.e., símbolos de *Sigma*), se retorna el calce:"
   ]
  },
  {
   "cell_type": "code",
   "execution_count": null,
   "metadata": {
    "id": "k4Uw97OK0BgV"
   },
   "outputs": [],
   "source": [
    "def LeerRespuesta(pregunta,patron):\n",
    "        # Sintetizar voz de la pregunta\n",
    "        TTS(pregunta)\n",
    "        time.sleep(4)\n",
    "        # Reconocer respuesta hablada\n",
    "        texto = ASR()\n",
    "        # Probar que la frase hablada contenga alguno de los símbolos del patron\n",
    "        calce = re.search(patron,texto)\n",
    "        if calce != None:\n",
    "           return(calce.group(0))\n",
    "        else:\n",
    "           return(\"nada\")"
   ]
  },
  {
   "cell_type": "markdown",
   "metadata": {
    "id": "ul6Cy_C0CKlt"
   },
   "source": [
    "Luego, definimos el reconocedor basado en el FA con la función **FA(q0,F,Sigma,Preguntas,TablaTrans)**. Esta recibe el estado inicial (**Q0**) y final (**F**), el vocabulario **Sigma**, la lista de **Preguntas** para cada estado, y la tabla de transición **TablaTrans** que el FA debe recorrer. La función retorna *True* si la entrada completa se reconoce, o *False*, en caso contrario.\n",
    "\n",
    "Recuerde que el lenguaje a reconocer es el dado por el siguiente autómata de control de flujo:\n",
    "\n",
    "<img src=\"https://drive.google.com/uc?id=1C-0X7inkaOesCbNqZFbYb50qY3ZNF38k\" width=\"500\" > "
   ]
  },
  {
   "cell_type": "code",
   "execution_count": null,
   "metadata": {
    "id": "7NBdaJbg1Dij"
   },
   "outputs": [],
   "source": [
    "def FA(Q0,F,Sigma,Preguntas,TablaTrans):\n",
    "    q=Q0    # Estado inicial\n",
    "    patron = \"|\".join(Sigma)\n",
    "    # Repita mientras no sea un estado final o de error\n",
    "    while ( not(q in F)   and  (q != _ERROR)):\n",
    "        # En el caso de que desee leer la respuesta solamente desde teclado,\n",
    "        # reemplace la línea de abajo por: Sym = input(Preguntas[q])\n",
    "        Simbolo  = LeerRespuesta(Preguntas[q],patron)\n",
    "        try:\n",
    "           TablaTrans[q][Simbolo]\n",
    "        except KeyError:\n",
    "           q = _ERROR\n",
    "           break\n",
    "        # Asigne el siguiente estado de la tabla o bien ERROR si no existe\n",
    "        q = (_ERROR if (not(Simbolo in Sigma)) else TablaTrans[q][Simbolo])\n",
    "    return(q in F)"
   ]
  },
  {
   "cell_type": "markdown",
   "metadata": {
    "id": "m8vc6Tyx15Mw"
   },
   "source": [
    "Necesitamos, una función que inicialice y defina los estados del FA, por lo que definimos la función **InicializarFA(nQ,Sigma)**, que toma el número de estados **nQ** de la máquina y el vocabulario **Sigma**, e inicializa los estados de la tabla de transición, según el grafo de interacción especificado en clases. La función retorna la tabla de transición llena (por defecto, los estados inválidos se llenan con un valor de **ERROR**):"
   ]
  },
  {
   "cell_type": "code",
   "execution_count": null,
   "metadata": {
    "id": "tjCSqPtk2jVS"
   },
   "outputs": [],
   "source": [
    "def InicializarFA(nQ,Sigma):\n",
    "   tt = {}\n",
    "   # Crear tabla de transición vacia (con valor de error)\n",
    "   for numQ in range (nQ):\n",
    "      tt[numQ] = {}\n",
    "      for Simb in Sigma:\n",
    "         tt[numQ][Simb] = _ERROR\n",
    "   # LLenar transiciones no vacias\n",
    "   tt[0]['internet']   = 1\n",
    "   tt[0]['teléfono']   = 2\n",
    "   tt[1]['tarjeta'] = 1\n",
    "   tt[1]['subscripción']   = 3\n",
    "   tt[2]['casa']   = 3\n",
    "   tt[2]['departamento']    = 1\n",
    "   return(tt)"
   ]
  },
  {
   "cell_type": "markdown",
   "metadata": {
    "id": "3ajsb0FU2wD-"
   },
   "source": [
    "Ahora definimos la función **EspecificarPreguntas()**, que simplemente especifica las preguntas que el FA realizará al usuario, retornando la lista de preguntas posibles: "
   ]
  },
  {
   "cell_type": "code",
   "execution_count": null,
   "metadata": {
    "id": "Uzy1ghdV2ov_"
   },
   "outputs": [],
   "source": [
    "def EspecificarPreguntas():\n",
    "   Preguntas = [\"Qué tipo de servicio requiere? \",\n",
    "                \"Que tipo de Cliente? \",\n",
    "                \"Que tipo de residencia? \"\n",
    "            ]\n",
    "   return(Preguntas)"
   ]
  },
  {
   "cell_type": "markdown",
   "metadata": {
    "id": "80TgcqCV3B3U"
   },
   "source": [
    "Ahora, invocamos el programa principal:"
   ]
  },
  {
   "cell_type": "code",
   "execution_count": null,
   "metadata": {
    "id": "8oIxZsCRTXlZ"
   },
   "outputs": [],
   "source": [
    "nlp       = es_core_news_sm.load()\n",
    "# Estado de error\n",
    "_ERROR=(-1)\n",
    "# Numero de estados   \n",
    "nQ=4    \n",
    "# Vocabulario o alfabeto de la máquina (FA):\n",
    "Sigma = {'internet','teléfono','tarjeta','subscripción','casa','departamento'}\n",
    "q0=0    # Estado inicial\n",
    "F={3}   # Estados finales\n",
    "TablaTransicion = InicializarFA(nQ,Sigma)\n",
    "TTS(\"Bienvenido a MasterPlop Comunicaciones..\")\n",
    "time.sleep(5)\n",
    "Preguntas  = EspecificarPreguntas()\n",
    "status = FA(q0,F,Sigma,Preguntas,TablaTransicion)\n",
    "if (status):\n",
    "    TTS(\"Transacción aceptada!\")\n",
    "else:\n",
    "    TTS(\"Error, no se entendió la consulta!\")"
   ]
  }
 ],
 "metadata": {
  "colab": {
   "authorship_tag": "ABX9TyMZjFlvIEhLO5NTDyenyHFO",
   "collapsed_sections": [],
   "name": "automata.ipynb",
   "provenance": []
  },
  "kernelspec": {
   "display_name": "Python 3 (ipykernel)",
   "language": "python",
   "name": "python3"
  },
  "language_info": {
   "codemirror_mode": {
    "name": "ipython",
    "version": 3
   },
   "file_extension": ".py",
   "mimetype": "text/x-python",
   "name": "python",
   "nbconvert_exporter": "python",
   "pygments_lexer": "ipython3",
   "version": "3.9.6"
  }
 },
 "nbformat": 4,
 "nbformat_minor": 4
}
